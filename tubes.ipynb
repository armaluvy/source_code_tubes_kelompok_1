{
 "cells": [
  {
   "cell_type": "code",
   "execution_count": null,
   "metadata": {},
   "outputs": [],
   "source": [
    "import os\n",
    "import yaml\n",
    "import cv2\n",
    "import numpy as np\n",
    "from sklearn.model_selection import train_test_split\n",
    "from sklearn.neighbors import KNeighborsClassifier\n",
    "from sklearn.metrics import classification_report, accuracy_score\n",
    "import matplotlib.pyplot as plt"
   ]
  },
  {
   "cell_type": "code",
   "execution_count": null,
   "metadata": {},
   "outputs": [],
   "source": [
    "# Path ke folder dataset (ganti sesuai lokasi dataset di PC Anda)\n",
    "dataset_path = \"E:\\kuliah\\SEM 9\\PCD\\tgs\\gambar\"\n",
    "yaml_path = os.path.join(dataset_path, \"data.yaml\")  # File YAML\n",
    "train_dir = os.path.join(dataset_path, \"train\")      # Folder training\n",
    "valid_dir = os.path.join(dataset_path, \"valid\")      # Folder validasi\n"
   ]
  },
  {
   "cell_type": "code",
   "execution_count": null,
   "metadata": {},
   "outputs": [],
   "source": [
    "# Fungsi untuk membaca file YAML\n",
    "def read_yaml(yaml_path):\n",
    "    with open(yaml_path, 'r') as file:\n",
    "        data = yaml.safe_load(file)\n",
    "    return data"
   ]
  },
  {
   "cell_type": "code",
   "execution_count": null,
   "metadata": {},
   "outputs": [],
   "source": [
    "# Fungsi untuk memuat gambar dan label\n",
    "def load_images_and_labels(data_dir):\n",
    "    images = []\n",
    "    labels = []\n",
    "    class_names = os.listdir(data_dir)\n",
    "    for label, class_name in enumerate(class_names):\n",
    "        class_path = os.path.join(data_dir, class_name)\n",
    "        for file_name in os.listdir(class_path):\n",
    "            file_path = os.path.join(class_path, file_name)\n",
    "            if file_name.endswith(('.png', '.jpg', '.jpeg')):\n",
    "                img = cv2.imread(file_path)\n",
    "                img = cv2.resize(img, (100, 100))  # Resize gambar ke ukuran 100x100\n",
    "                img = cv2.cvtColor(img, cv2.COLOR_BGR2RGB)  # Konversi BGR ke RGB\n",
    "                images.append(img)\n",
    "                labels.append(label)\n",
    "    return np.array(images), np.array(labels), class_names"
   ]
  },
  {
   "cell_type": "code",
   "execution_count": null,
   "metadata": {},
   "outputs": [],
   "source": [
    "# Muat data training\n",
    "print(\"Memuat data training...\")\n",
    "X_train, y_train, class_names_train = load_images_and_labels(train_dir)\n",
    "print(f\"Data training: {X_train.shape[0]} gambar\")\n"
   ]
  },
  {
   "cell_type": "code",
   "execution_count": null,
   "metadata": {},
   "outputs": [],
   "source": [
    "# Muat data validasi\n",
    "print(\"Memuat data validasi...\")\n",
    "X_valid, y_valid, class_names_valid = load_images_and_labels(valid_dir)\n",
    "print(f\"Data validasi: {X_valid.shape[0]} gambar\")"
   ]
  },
  {
   "cell_type": "code",
   "execution_count": null,
   "metadata": {},
   "outputs": [],
   "source": [
    "# Periksa kesesuaian kelas\n",
    "def check_class_consistency(classes_train, classes_valid):\n",
    "    if set(classes_train) != set(classes_valid):\n",
    "        raise ValueError(\"Kelas di data training dan validasi tidak cocok!\")\n",
    "\n",
    "check_class_consistency(class_names_train, class_names_valid)"
   ]
  },
  {
   "cell_type": "code",
   "execution_count": null,
   "metadata": {},
   "outputs": [],
   "source": [
    "# Normalisasi data\n",
    "X_train = X_train / 255.0\n",
    "X_valid = X_valid / 255.0\n"
   ]
  },
  {
   "cell_type": "code",
   "execution_count": null,
   "metadata": {},
   "outputs": [],
   "source": [
    "# Flatten gambar menjadi vektor fitur\n",
    "X_train_flatten = X_train.reshape(X_train.shape[0], -1)\n",
    "X_valid_flatten = X_valid.reshape(X_valid.shape[0], -1)\n"
   ]
  },
  {
   "cell_type": "code",
   "execution_count": null,
   "metadata": {},
   "outputs": [],
   "source": [
    "# Bangun model KNN\n",
    "print(\"Membangun model KNN...\")\n",
    "k = 3  # Jumlah tetangga terdekat\n",
    "knn = KNeighborsClassifier(n_neighbors=k)\n",
    "knn.fit(X_train_flatten, y_train)\n"
   ]
  },
  {
   "cell_type": "code",
   "execution_count": null,
   "metadata": {},
   "outputs": [],
   "source": [
    "# Evaluasi model\n",
    "print(\"Evaluasi model...\")\n",
    "y_pred = knn.predict(X_valid_flatten)\n",
    "accuracy = accuracy_score(y_valid, y_pred)\n",
    "print(f\"Akurasi: {accuracy:.2f}\")\n",
    "print(\"\\nLaporan Klasifikasi:\")\n",
    "print(classification_report(y_valid, y_pred, target_names=class_names_train))"
   ]
  },
  {
   "cell_type": "code",
   "execution_count": null,
   "metadata": {},
   "outputs": [],
   "source": [
    "# Visualisasi beberapa hasil prediksi\n",
    "def visualize_predictions(X, y_true, y_pred, class_names, num_images=5):\n",
    "    indices = np.random.choice(range(len(X)), num_images, replace=False)\n",
    "    for i, idx in enumerate(indices):\n",
    "        plt.subplot(1, num_images, i + 1)\n",
    "        plt.imshow(X[idx])\n",
    "        plt.title(f\"True: {class_names[y_true[idx]]}\\nPred: {class_names[y_pred[idx]]}\")\n",
    "        plt.axis('off')\n",
    "    plt.show()\n",
    "\n",
    "visualize_predictions(X_valid, y_valid, y_pred, class_names_train)"
   ]
  }
 ],
 "metadata": {
  "language_info": {
   "name": "python"
  }
 },
 "nbformat": 4,
 "nbformat_minor": 2
}
